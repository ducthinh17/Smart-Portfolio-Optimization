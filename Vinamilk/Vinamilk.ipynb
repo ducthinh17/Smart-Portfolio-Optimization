{
  "nbformat": 4,
  "nbformat_minor": 0,
  "metadata": {
    "colab": {
      "private_outputs": true,
      "provenance": [],
      "authorship_tag": "ABX9TyP2fA7yxPhkOH3zyCRi63zf",
      "include_colab_link": true
    },
    "kernelspec": {
      "name": "python3",
      "display_name": "Python 3"
    },
    "language_info": {
      "name": "python"
    }
  },
  "cells": [
    {
      "cell_type": "markdown",
      "metadata": {
        "id": "view-in-github",
        "colab_type": "text"
      },
      "source": [
        "<a href=\"https://colab.research.google.com/github/bachsykhang/StockPredictVinamilk/blob/main/Vinamilk.ipynb\" target=\"_parent\"><img src=\"https://colab.research.google.com/assets/colab-badge.svg\" alt=\"Open In Colab\"/></a>"
      ]
    },
    {
      "cell_type": "markdown",
      "source": [
        "# Bước 1: Import thư viện"
      ],
      "metadata": {
        "id": "QbVTl6cX91f6"
      }
    },
    {
      "cell_type": "code",
      "execution_count": null,
      "metadata": {
        "id": "zeJLJwk89YIG"
      },
      "outputs": [],
      "source": [
        "import pandas as pd #đọc dữ liệu\n",
        "import numpy as np #xử lý dữ liệu\n",
        "import matplotlib.pyplot as plt #vẽ biểu đồ\n",
        "from sklearn.preprocessing import MinMaxScaler #chuẩn hóa dữ liệu\n",
        "from keras.callbacks import ModelCheckpoint #lưu lại huấn luyện tốt nhất\n",
        "from tensorflow.keras.models import load_model #tải mô hình\n",
        "\n",
        "#các lớp để xây dựng mô hình\n",
        "from keras.models import Sequential #đầu vào\n",
        "from keras.layers import LSTM #học phụ thuộc\n",
        "from keras.layers import Dropout #tránh học tủ\n",
        "from keras.layers import Dense #đầu ra\n",
        "\n",
        "#kiểm tra độ chính xác của mô hình\n",
        "from sklearn.metrics import r2_score #đo mức độ phù hợp\n",
        "from sklearn.metrics import mean_absolute_error #đo sai số tuyệt đối trung bình\n",
        "from sklearn.metrics import mean_absolute_percentage_error #đo % sai số tuyệt đối trung bình"
      ]
    },
    {
      "cell_type": "markdown",
      "source": [
        "# Bước 2: Đọc dữ liệu"
      ],
      "metadata": {
        "id": "NpxolYlY98tM"
      }
    },
    {
      "cell_type": "code",
      "source": [
        "#tạo quyền truy cập với google drive\n",
        "from google.colab import drive\n",
        "drive.mount('/content/drive')\n"
      ],
      "metadata": {
        "id": "cXySv11h97eT"
      },
      "execution_count": null,
      "outputs": []
    },
    {
      "cell_type": "code",
      "source": [
        "# đọc dữ liệu từ file csv\n",
        "df = pd.read_csv('/content/drive/MyDrive/dataset/Dữ liệu Lịch sử VNM 2013_2023.csv')\n",
        "\n",
        "# Xóa hai dòng \"KL\" và \"Thay đổi %\" từ DataFrame dataSet\n",
        "df = df.drop(columns=[\"KL\", \"% Thay đổi\"])\n",
        "\n",
        "# Hiển thị lại DataFrame sau khi xóa\n",
        "print(df)"
      ],
      "metadata": {
        "id": "seE5QAoV-dpj"
      },
      "execution_count": null,
      "outputs": []
    },
    {
      "cell_type": "markdown",
      "source": [
        "# Bước 3: Mô tả dữ liệu"
      ],
      "metadata": {
        "id": "NiHTjeume5Qj"
      }
    },
    {
      "cell_type": "code",
      "source": [
        "#định dạng cấu trúc thời gian\n",
        "df[\"Ngày\"] = pd.to_datetime(df.Ngày,format=\"%d/%m/%Y\")"
      ],
      "metadata": {
        "id": "EGPfWjRqeZcS"
      },
      "execution_count": null,
      "outputs": []
    },
    {
      "cell_type": "code",
      "source": [
        "#kích thước dữ liệu\n",
        "df.shape"
      ],
      "metadata": {
        "id": "T638fE9SfW7j"
      },
      "execution_count": null,
      "outputs": []
    },
    {
      "cell_type": "code",
      "source": [
        "#dữ liệu 5 dòng đầu\n",
        "df.head()"
      ],
      "metadata": {
        "id": "RFc_J3u4fjEi"
      },
      "execution_count": null,
      "outputs": []
    },
    {
      "cell_type": "code",
      "source": [
        "#xác định kiểu dữ liệu\n",
        "df.info()"
      ],
      "metadata": {
        "id": "n1UD6MUZgBJ6"
      },
      "execution_count": null,
      "outputs": []
    },
    {
      "cell_type": "code",
      "source": [
        "#mô tả bộ dữ liệu\n",
        "df.describe()"
      ],
      "metadata": {
        "id": "dqaLE79gg-1u"
      },
      "execution_count": null,
      "outputs": []
    },
    {
      "cell_type": "markdown",
      "source": [
        "# Bước 4: Tiền xử lý dữ liệu"
      ],
      "metadata": {
        "id": "TVi1EruRhGYm"
      }
    },
    {
      "cell_type": "code",
      "source": [
        "from matplotlib.dates import YearLocator, DateFormatter, MonthLocator # Thêm MonthLocator vào để sửa lỗi\n",
        "\n",
        "# Chuyển đổi cột \"Ngày\" sang dạng datetime\n",
        "df['Ngày'] = pd.to_datetime(df['Ngày'], format='%d/%m/%Y')\n",
        "\n",
        "# Sắp xếp lại dữ liệu theo thứ tự thời gian\n",
        "df = df.sort_values(by='Ngày')\n",
        "\n",
        "# Chuyển đổi định dạng các cột giá thành số thực\n",
        "df['Đóng cửa'] = df['Đóng cửa'].str.replace(',', '').astype(float)\n",
        "df['Mở cửa'] = df['Mở cửa'].str.replace(',', '').astype(float)\n",
        "df['Cao nhất'] = df['Cao nhất'].str.replace(',', '').astype(float)\n",
        "df['Thấp nhất'] = df['Thấp nhất'].str.replace(',', '').astype(float)\n",
        "\n",
        "# Lấy thông tin năm từ cột \"Ngày\"\n",
        "df['Năm'] = df['Ngày'].dt.year\n",
        "\n",
        "# Tạo đồ thị giá đóng cửa qua các năm\n",
        "plt.figure(figsize=(10, 5))\n",
        "plt.plot(df['Ngày'], df['Đóng cửa'], label='Giá đóng cửa', color='red')\n",
        "plt.xlabel('Năm')\n",
        "plt.ylabel('Giá đóng cửa')\n",
        "plt.title('Biểu đồ giá đóng cửa của VNM qua các năm')\n",
        "plt.legend(loc='best')\n",
        "\n",
        "# Định dạng đồ thị hiển thị các ngày tháng theo năm-tháng\n",
        "years = YearLocator()\n",
        "yearsFmt = DateFormatter('%Y')\n",
        "months = MonthLocator()  # Thêm dòng này để khai báo MonthLocator\n",
        "plt.gca().xaxis.set_major_locator(years)\n",
        "plt.gca().xaxis.set_major_formatter(yearsFmt)\n",
        "plt.gca().xaxis.set_minor_locator(months)\n",
        "\n",
        "plt.tight_layout()\n",
        "plt.show()\n"
      ],
      "metadata": {
        "id": "Fw_rJZUn1YBR"
      },
      "execution_count": null,
      "outputs": []
    },
    {
      "cell_type": "code",
      "source": [
        "df1 = pd.DataFrame(df,columns=['Ngày','Đóng cửa'])\n",
        "df1.index = df1.Ngày\n",
        "df1.drop('Ngày',axis=1,inplace=True)\n",
        "df1"
      ],
      "metadata": {
        "id": "-1EDodE3H7hl"
      },
      "execution_count": null,
      "outputs": []
    },
    {
      "cell_type": "code",
      "source": [
        "#chia tập dữ liệu\n",
        "data = df1.values\n",
        "train_data = data[:1500]\n",
        "test_data = data[1500:]"
      ],
      "metadata": {
        "id": "rwnmF61DJ-kL"
      },
      "execution_count": null,
      "outputs": []
    },
    {
      "cell_type": "code",
      "source": [
        "data"
      ],
      "metadata": {
        "id": "avH1m3WvKW8v"
      },
      "execution_count": null,
      "outputs": []
    },
    {
      "cell_type": "code",
      "source": [
        "#chuẩn hóa dữ liệu\n",
        "sc = MinMaxScaler(feature_range=(0,1))\n",
        "sc_train = sc.fit_transform(data)"
      ],
      "metadata": {
        "id": "dIepxXreL0gq"
      },
      "execution_count": null,
      "outputs": []
    },
    {
      "cell_type": "code",
      "source": [
        "#tạo vòng lặp các giá trị\n",
        "x_train,y_train=[],[]\n",
        "for i in range(50,len(train_data)):\n",
        "  x_train.append(sc_train[i-50:i,0]) #lấy 50 giá đóng cửa liên tục\n",
        "  y_train.append(sc_train[i,0]) #lấy ra giá đóng cửa ngày hôm sau"
      ],
      "metadata": {
        "id": "G_GVD_Y9M4lz"
      },
      "execution_count": null,
      "outputs": []
    },
    {
      "cell_type": "code",
      "source": [
        "x_train"
      ],
      "metadata": {
        "id": "u1JB9h6nOm-O"
      },
      "execution_count": null,
      "outputs": []
    },
    {
      "cell_type": "code",
      "source": [
        "y_train"
      ],
      "metadata": {
        "id": "-IsFG1V6OpUR"
      },
      "execution_count": null,
      "outputs": []
    },
    {
      "cell_type": "code",
      "source": [
        "#xếp dữ liệu thành 1 mảng 2 chiều\n",
        "x_train = np.array(x_train)\n",
        "y_train = np.array(y_train)\n",
        "\n",
        "#xếp lại dữ liệu thành mảng 1 chiều\n",
        "x_train = np.reshape(x_train,(x_train.shape[0],x_train.shape[1],1))\n",
        "y_train = np.reshape(y_train,(y_train.shape[0],1))"
      ],
      "metadata": {
        "id": "WqY0hs1ZO0Tp"
      },
      "execution_count": null,
      "outputs": []
    },
    {
      "cell_type": "markdown",
      "source": [
        "# Bước 5: Xây dựng và huấn luyện mô hình"
      ],
      "metadata": {
        "id": "m31wSZ5FRmcs"
      }
    },
    {
      "cell_type": "code",
      "source": [
        "#xây dựng mô hình\n",
        "model = Sequential() #tạo lớp mạng cho dữ liệu đầu vào\n",
        "#2 lớp LSTM\n",
        "model.add(LSTM(units=128,input_shape=(x_train.shape[1],1),return_sequences=True))\n",
        "model.add(LSTM(units=64))\n",
        "model.add(Dropout(0.5)) #loại bỏ 1 số đơn vị tránh học tủ (overfitting)\n",
        "model.add(Dense(1)) #output đầu ra 1 chiều\n",
        "#đo sai số tuyệt đối trung bình có sử dụng trình tối ưu hóa adam\n",
        "model.compile(loss='mean_absolute_error',optimizer='adam')"
      ],
      "metadata": {
        "id": "yn8_GyX1RrZb"
      },
      "execution_count": null,
      "outputs": []
    },
    {
      "cell_type": "code",
      "source": [
        "#huấn luyện mô hình\n",
        "save_model = \"/content/drive/MyDrive/dataset/save_model.hdf5\"\n",
        "best_model = ModelCheckpoint(save_model,monitor='loss',verbose=2,save_best_only=True,mode='auto')\n",
        "model.fit(x_train,y_train,epochs=100,batch_size=50,verbose=2,callbacks=[best_model])"
      ],
      "metadata": {
        "id": "lOxRulPha380"
      },
      "execution_count": null,
      "outputs": []
    },
    {
      "cell_type": "code",
      "source": [
        "#dữ liệu train\n",
        "y_train = sc.inverse_transform(y_train) #giá thực\n",
        "final_model = load_model(\"/content/drive/MyDrive/dataset/save_model.hdf5\")\n",
        "y_train_predict = final_model.predict(x_train) #dự đoán giá đóng cửa trên tập đã train\n",
        "y_train_predict = sc.inverse_transform(y_train_predict) #giá dự đoán"
      ],
      "metadata": {
        "id": "nWnpzKocf6Hc"
      },
      "execution_count": null,
      "outputs": []
    },
    {
      "cell_type": "markdown",
      "source": [
        "# Bước 6: Tái sử dụng mô hình"
      ],
      "metadata": {
        "id": "KBy9H3IzhC3Y"
      }
    },
    {
      "cell_type": "code",
      "source": [
        "#xử lý dữ liệu test\n",
        "test = df1[len(train_data)-50:].values\n",
        "test = test.reshape(-1,1)\n",
        "sc_test = sc.transform(test)\n",
        "\n",
        "x_test = []\n",
        "for i in range(50,test.shape[0]):\n",
        "  x_test.append(sc_test[i-50:i,0])\n",
        "x_test = np.array(x_test)\n",
        "x_test = np.reshape(x_test,(x_test.shape[0],x_test.shape[1],1))\n",
        "\n",
        "#dữ liệu test\n",
        "y_test = data[1500:] #giá thực\n",
        "y_test_predict = final_model.predict(x_test)\n",
        "y_test_predict = sc.inverse_transform(y_test_predict) #giá dự đoán"
      ],
      "metadata": {
        "id": "e3QhxK3phFmV"
      },
      "execution_count": null,
      "outputs": []
    },
    {
      "cell_type": "code",
      "source": [],
      "metadata": {
        "id": "EjQ1-eDtnAQn"
      },
      "execution_count": null,
      "outputs": []
    },
    {
      "cell_type": "markdown",
      "source": [
        "# Độ chính xác của mô hình"
      ],
      "metadata": {
        "id": "F_cVGMd7mm-5"
      }
    },
    {
      "cell_type": "code",
      "source": [
        "#lập biểu đồ so sánh\n",
        "train_data1 = df1[50:1500]\n",
        "test_data1 = df1[1500:]\n",
        "\n",
        "plt.figure(figsize=(24,8))\n",
        "plt.plot(df1,label='Giá thực tế',color='red') #đường giá thực\n",
        "train_data1['Dự đoán'] = y_train_predict #thêm dữ liệu\n",
        "plt.plot(train_data1['Dự đoán'],label='Giá dự đoán train',color='green') #đường giá dự báo train\n",
        "test_data1['Dự đoán'] = y_test_predict #thêm dữ liệu\n",
        "plt.plot(test_data1['Dự đoán'],label='Giá dự đoán test',color='blue') #đường giá dự báo test\n",
        "plt.title('So sánh giá dự báo và giá thực tế') #đặt tên biểu đồ\n",
        "plt.xlabel('Thời gian') #đặt tên hàm x\n",
        "plt.ylabel('Giá đóng cửa (VNĐ)') #đặt tên hàm y\n",
        "plt.legend() #chú thích\n",
        "plt.show()"
      ],
      "metadata": {
        "id": "di27P0jDnJVO"
      },
      "execution_count": null,
      "outputs": []
    },
    {
      "cell_type": "code",
      "source": [
        "#r2\n",
        "print('Độ phù hợp tập train:',r2_score(y_train,y_train_predict))\n",
        "#mae\n",
        "print('Sai số tuyệt đối trung bình trên tập train (VNĐ):',mean_absolute_error(y_train,y_train_predict))\n",
        "#mae\n",
        "print('Phần trăm sai số tuyệt đối trung bình tập train:',mean_absolute_percentage_error(y_train,y_train_predict))"
      ],
      "metadata": {
        "id": "ZV8OWqWjxnn-"
      },
      "execution_count": null,
      "outputs": []
    },
    {
      "cell_type": "code",
      "source": [
        "train_data1"
      ],
      "metadata": {
        "id": "W_84rUlGz7Yj"
      },
      "execution_count": null,
      "outputs": []
    },
    {
      "cell_type": "code",
      "source": [
        "#r2\n",
        "print('Độ phù hợp tập test:',r2_score(y_test,y_test_predict))\n",
        "#mae\n",
        "print('Sai số tuyệt đối trung bình trên tập test (VNĐ):',mean_absolute_error(y_test,y_test_predict))\n",
        "#mae\n",
        "print('Phần trăm sai số tuyệt đối trung bình tập test:',mean_absolute_percentage_error(y_test,y_test_predict))"
      ],
      "metadata": {
        "id": "iKrkjccN0PkV"
      },
      "execution_count": null,
      "outputs": []
    },
    {
      "cell_type": "code",
      "source": [
        "test_data1"
      ],
      "metadata": {
        "id": "256kqH5r0ukQ"
      },
      "execution_count": null,
      "outputs": []
    },
    {
      "cell_type": "markdown",
      "source": [
        "# Thử dự đoán giá tương lai và so sánh với giá ngày cuối"
      ],
      "metadata": {
        "id": "-T4ZqZrRlKhp"
      }
    },
    {
      "cell_type": "code",
      "source": [
        "# Lấy ngày kế tiếp sau ngày cuối cùng trong tập dữ liệu để dự đoán\n",
        "next_date = df['Ngày'].iloc[-1] + pd.Timedelta(days=1)\n",
        "\n",
        "# Chuyển đổi ngày kế tiếp sang dạng datetime\n",
        "next_date = pd.to_datetime(next_date)\n",
        "\n",
        "# Lấy giá trị của ngày cuối cùng trong tập dữ liệu\n",
        "next_closing_price = np.array([df['Đóng cửa'].iloc[-1]])  # Lấy giá trị đóng cửa của ngày cuối cùng\n",
        "\n",
        "# Chuẩn hóa giá trị của ngày cuối cùng\n",
        "next_closing_price_normalized = sc.transform(next_closing_price.reshape(-1, 1))  # Chuyển thành mảng 2D\n",
        "\n",
        "# Tạo dự đoán cho ngày kế tiếp bằng mô hình đã huấn luyện\n",
        "x_next = np.array([sc_train[-50:, 0]])  # Lấy 50 giá đóng cửa gần nhất\n",
        "x_next = np.reshape(x_next, (x_next.shape[0], x_next.shape[1], 1))\n",
        "y_next_predict = final_model.predict(x_next)\n",
        "y_next_predict = sc.inverse_transform(y_next_predict)\n",
        "\n",
        "# Thêm dữ liệu dự đoán của ngày kế tiếp vào DataFrame\n",
        "df_next = pd.DataFrame({'Ngày': [next_date], 'Đóng cửa': [y_next_predict[0][0]]})\n",
        "df1 = pd.concat([df1, df_next])\n",
        "\n",
        "# Vẽ biểu đồ mới với dự đoán cho ngày kế tiếp\n",
        "plt.figure(figsize=(15, 5))\n",
        "plt.plot(df1['Ngày'], df1['Đóng cửa'], label='Giá thực tế', color='red')\n",
        "plt.plot(train_data1.index, train_data1['Dự đoán'], label='Giá dự đoán train', color='green')\n",
        "plt.plot(test_data1.index, test_data1['Dự đoán'], label='Giá dự đoán test', color='blue')\n",
        "plt.scatter([next_date], [y_next_predict[0][0]], color='orange', label='Dự đoán ngày kế tiếp')\n",
        "plt.xlabel('Thời gian')\n",
        "plt.ylabel('Giá đóng cửa (VNĐ)')\n",
        "plt.title('So sánh giá dự báo và giá thực tế')\n",
        "plt.legend()\n",
        "plt.show()\n"
      ],
      "metadata": {
        "id": "-L3etmuGlXgJ"
      },
      "execution_count": null,
      "outputs": []
    },
    {
      "cell_type": "code",
      "source": [
        "# Lấy giá trị của ngày cuối cùng trong tập dữ liệu\n",
        "actual_closing_price = df['Đóng cửa'].iloc[-1]\n",
        "\n",
        "# Tạo DataFrame so sánh giá dự đoán với giá ngày cuối trong tập dữ liệu\n",
        "comparison_df = pd.DataFrame({'Ngày': [next_date], 'Giá dự đoán': [y_next_predict[0][0]], 'Giá ngày trước': [actual_closing_price]})\n",
        "\n",
        "# In ra bảng so sánh\n",
        "print(comparison_df)"
      ],
      "metadata": {
        "id": "qkZys74bnwdW"
      },
      "execution_count": null,
      "outputs": []
    }
  ]
}